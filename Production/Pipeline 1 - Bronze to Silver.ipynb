{
 "cells": [
  {
   "cell_type": "code",
   "execution_count": 0,
   "metadata": {
    "application/vnd.databricks.v1+cell": {
     "cellMetadata": {
      "byteLimit": 2048000,
      "rowLimit": 10000
     },
     "inputWidgets": {},
     "nuid": "c5a7a839-30d9-4195-aad8-0a0efac2b518",
     "showTitle": false,
     "tableResultSettingsMap": {},
     "title": ""
    }
   },
   "outputs": [],
   "source": [
    "df = spark.read.json('dbfs:/mnt/Anac/Bronze/V_OCORRENCIA_AMPLA.json')"
   ]
  },
  {
   "cell_type": "code",
   "execution_count": 0,
   "metadata": {
    "application/vnd.databricks.v1+cell": {
     "cellMetadata": {
      "byteLimit": 2048000,
      "rowLimit": 10000
     },
     "inputWidgets": {},
     "nuid": "a7122dff-fada-49ad-abb3-987a714dd9b1",
     "showTitle": false,
     "tableResultSettingsMap": {},
     "title": ""
    }
   },
   "outputs": [],
   "source": [
    "lista_colunas = [\n",
    "    \"Aerodromo_de_Destino\", \"Aerodromo_de_Origem\", \"CLS\", \"Categoria_da_Aeronave\", \"Classificacao_da_Ocorrência\", \"Danos_a_Aeronave\", \"Descricao_do_Tipo\", \"Fase_da_Operacao\",\n",
    "    \"Historico\", \"ICAO\", \"Matricula\", \"Modelo\", \"Municipio\", \"Nome_do_Fabricante\",\n",
    "    \"Operacao\", \"Operador\", \"Operador_Padronizado\", \"PMD\", \"Regiao\", \"Tipo_ICAO\", \"Tipo_de_Aerodromo\", \"Tipo_de_Ocorrencia\", \"UF\"\n",
    "]\n",
    "for ajuste in lista_colunas:\n",
    "    df = df.fillna('Sem Registro', subset=[ajuste])"
   ]
  },
  {
   "cell_type": "code",
   "execution_count": 0,
   "metadata": {
    "application/vnd.databricks.v1+cell": {
     "cellMetadata": {
      "byteLimit": 2048000,
      "rowLimit": 10000
     },
     "inputWidgets": {},
     "nuid": "54ef073f-488a-4e4c-a60f-d865e1522cc8",
     "showTitle": false,
     "tableResultSettingsMap": {},
     "title": ""
    }
   },
   "outputs": [],
   "source": [
    "lista_colunas_int = [\n",
    "    'Ilesos_Passageiros', 'Ilesos_Tripulantes', 'Lesoes_Desconhecidas_Tripulantes', 'Lesoes_Desconhecidas_Terceiros', 'Lesoes_Desconhecidas_Passageiros', 'Lesoes_Fatais_Passageiros',\n",
    "    'Lesoes_Fatais_Terceiros', 'Lesoes_Fatais_Tripulantes', 'Lesoes_Graves_Passageiros', 'Lesoes_Graves_Terceiros', 'Lesoes_Graves_Tripulantes', 'Lesoes_Leves_Passageiros', 'Lesoes_Leves_Terceiros', 'Lesoes_Leves_Tripulantes', 'Numero_de_Assentos', 'Numero_da_Ocorrencia',\n",
    "    'Numero_da_Ficha'\n",
    "]\n",
    "for coluna in lista_colunas_int:\n",
    "    df = df\\\n",
    "        .withColumn(coluna, df[coluna].cast('int'))\\\n",
    "        .fillna(0, subset=coluna)\n"
   ]
  },
  {
   "cell_type": "code",
   "execution_count": 0,
   "metadata": {
    "application/vnd.databricks.v1+cell": {
     "cellMetadata": {
      "byteLimit": 2048000,
      "rowLimit": 10000
     },
     "inputWidgets": {},
     "nuid": "dcb582c2-6b53-4a6a-93b4-f1ec286042de",
     "showTitle": false,
     "tableResultSettingsMap": {},
     "title": ""
    }
   },
   "outputs": [],
   "source": [
    "df = df.withColumn('Data_da_Ocorrencia', df['Data_da_Ocorrencia'].cast('date'))"
   ]
  },
  {
   "cell_type": "code",
   "execution_count": 0,
   "metadata": {
    "application/vnd.databricks.v1+cell": {
     "cellMetadata": {
      "byteLimit": 2048000,
      "rowLimit": 10000
     },
     "inputWidgets": {},
     "nuid": "aace6f56-04b9-4695-87da-3e9a3198761c",
     "showTitle": false,
     "tableResultSettingsMap": {},
     "title": ""
    }
   },
   "outputs": [],
   "source": [
    "from pyspark.sql.functions import regexp_replace, col\n",
    "\n",
    "df = df\\\n",
    "    .withColumn(\n",
    "        'Latitude', \n",
    "        regexp_replace('Latitude', ',', '.').cast('decimal(8,6)')\n",
    "    )\n",
    "df = df\\\n",
    "    .withColumn(\n",
    "        'Longitude', \n",
    "        regexp_replace('Longitude', ',', '.').cast('decimal(9,6)')\n",
    "    )\n"
   ]
  },
  {
   "cell_type": "code",
   "execution_count": 0,
   "metadata": {
    "application/vnd.databricks.v1+cell": {
     "cellMetadata": {
      "byteLimit": 2048000,
      "rowLimit": 10000
     },
     "inputWidgets": {},
     "nuid": "64433040-80f1-4969-9c30-d9c13bb2b0e2",
     "showTitle": false,
     "tableResultSettingsMap": {},
     "title": ""
    }
   },
   "outputs": [],
   "source": [
    "from pyspark.sql.functions import when\n",
    "\n",
    "df = df\\\n",
    "    .withColumn(\"PSSO\", \\\n",
    "        when(df.PSSO == 'verdadeiro', True).when(df.PSSO == 'falso', False)\n",
    "    )"
   ]
  },
  {
   "cell_type": "code",
   "execution_count": 0,
   "metadata": {
    "application/vnd.databricks.v1+cell": {
     "cellMetadata": {
      "byteLimit": 2048000,
      "rowLimit": 10000
     },
     "inputWidgets": {},
     "nuid": "078d2a52-8ebd-4ec1-abb6-116f98faa2ab",
     "showTitle": false,
     "tableResultSettingsMap": {},
     "title": ""
    }
   },
   "outputs": [],
   "source": [
    "df.write\\\n",
    "    .format(\"parquet\")\\\n",
    "    .mode(\"overwrite\")\\\n",
    "    .option(\"compression\", \"gzip\")\\\n",
    "    .option(\"header\", \"true\")\\\n",
    "    .save(\"dbfs:/mnt/Anac/Silver/anac_silver.parquet\")"
   ]
  }
 ],
 "metadata": {
  "application/vnd.databricks.v1+notebook": {
   "computePreferences": null,
   "dashboards": [],
   "environmentMetadata": {
    "base_environment": "",
    "environment_version": "2"
   },
   "inputWidgetPreferences": null,
   "language": "python",
   "notebookMetadata": {
    "mostRecentlyExecutedCommandWithImplicitDF": {
     "commandId": 4682129119157882,
     "dataframes": [
      "_sqldf"
     ]
    },
    "pythonIndentUnit": 4
   },
   "notebookName": "Pipeline 1 - Bronze to Silver",
   "widgets": {}
  },
  "language_info": {
   "name": "python"
  }
 },
 "nbformat": 4,
 "nbformat_minor": 0
}
