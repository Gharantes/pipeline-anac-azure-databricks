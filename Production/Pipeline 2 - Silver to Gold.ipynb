{
 "cells": [
  {
   "cell_type": "code",
   "execution_count": 0,
   "metadata": {
    "application/vnd.databricks.v1+cell": {
     "cellMetadata": {
      "byteLimit": 2048000,
      "rowLimit": 10000
     },
     "inputWidgets": {},
     "nuid": "fb0fa7af-9f01-4ea0-8406-7a6de64457ac",
     "showTitle": false,
     "tableResultSettingsMap": {},
     "title": ""
    }
   },
   "outputs": [],
   "source": [
    "df = spark.read\\\n",
    "    .format(\"parquet\")\\\n",
    "    .option(\"header\", True)\\\n",
    "    .option(\"inferSchema\", True)\\\n",
    "    .option(\"compression\", \"gzip\")\\\n",
    "    .load(\"dbfs:/mnt/Anac/Silver/anac_silver.parquet\")"
   ]
  },
  {
   "cell_type": "code",
   "execution_count": 0,
   "metadata": {
    "application/vnd.databricks.v1+cell": {
     "cellMetadata": {
      "byteLimit": 2048000,
      "rowLimit": 10000
     },
     "inputWidgets": {},
     "nuid": "06c19076-d260-4c2f-8ec7-4c5fc554780d",
     "showTitle": false,
     "tableResultSettingsMap": {},
     "title": ""
    }
   },
   "outputs": [],
   "source": [
    "colunas_relevantes = [\n",
    "    'Classificacao_da_Ocorrência',\n",
    "    'Danos_a_Aeronave',\n",
    "    'Descricao_do_Tipo',\n",
    "    'Fase_da_Operacao',\n",
    "    'Historico',\n",
    "    'UF',\n",
    "    \"Lesoes_Desconhecidas_Passageiros\",\n",
    "    \"Lesoes_Desconhecidas_Terceiros\",\n",
    "    \"Lesoes_Desconhecidas_Tripulantes\",\n",
    "    \"Lesoes_Fatais_Passageiros\",\n",
    "    \"Lesoes_Fatais_Terceiros\",\n",
    "    \"Lesoes_Fatais_Tripulantes\",\n",
    "    \"Lesoes_Graves_Passageiros\",\n",
    "    \"Lesoes_Graves_Terceiros\",\n",
    "    \"Lesoes_Graves_Tripulantes\",\n",
    "    \"Lesoes_Leves_Passageiros\",\n",
    "    \"Lesoes_Leves_Terceiros\",\n",
    "    \"Lesoes_Leves_Tripulantes\",\n",
    "]\n",
    "gold_df = df.select(colunas_relevantes)"
   ]
  },
  {
   "cell_type": "code",
   "execution_count": 0,
   "metadata": {
    "application/vnd.databricks.v1+cell": {
     "cellMetadata": {
      "byteLimit": 2048000,
      "rowLimit": 10000
     },
     "inputWidgets": {},
     "nuid": "59ab3888-4f9d-42b3-a920-41c3a414538f",
     "showTitle": false,
     "tableResultSettingsMap": {},
     "title": ""
    }
   },
   "outputs": [],
   "source": [
    "colunas_lesoes = [\n",
    "    \"Lesoes_Desconhecidas_Passageiros\",\n",
    "    \"Lesoes_Desconhecidas_Terceiros\",\n",
    "    \"Lesoes_Desconhecidas_Tripulantes\",\n",
    "    \"Lesoes_Fatais_Passageiros\",\n",
    "    \"Lesoes_Fatais_Terceiros\",\n",
    "    \"Lesoes_Fatais_Tripulantes\",\n",
    "    \"Lesoes_Graves_Passageiros\",\n",
    "    \"Lesoes_Graves_Terceiros\",\n",
    "    \"Lesoes_Graves_Tripulantes\",\n",
    "    \"Lesoes_Leves_Passageiros\",\n",
    "    \"Lesoes_Leves_Terceiros\",\n",
    "    \"Lesoes_Leves_Tripulantes\",\n",
    "]\n",
    "gold_df = gold_df\\\n",
    "    .withColumn(\"Total de Lesões\", sum(gold_df[qtd_lesoes] for qtd_lesoes in colunas_lesoes))"
   ]
  },
  {
   "cell_type": "code",
   "execution_count": 0,
   "metadata": {
    "application/vnd.databricks.v1+cell": {
     "cellMetadata": {
      "byteLimit": 2048000,
      "rowLimit": 10000
     },
     "inputWidgets": {},
     "nuid": "c1735bbc-898a-4baa-9285-0bc1c5e5db75",
     "showTitle": false,
     "tableResultSettingsMap": {},
     "title": ""
    }
   },
   "outputs": [],
   "source": [
    "gold_df = gold_df.drop(*colunas_lesoes)"
   ]
  },
  {
   "cell_type": "code",
   "execution_count": 0,
   "metadata": {
    "application/vnd.databricks.v1+cell": {
     "cellMetadata": {
      "byteLimit": 2048000,
      "rowLimit": 10000
     },
     "inputWidgets": {},
     "nuid": "b7fad6b7-caf5-4f13-9957-fbe3c286ec35",
     "showTitle": false,
     "tableResultSettingsMap": {},
     "title": ""
    }
   },
   "outputs": [],
   "source": [
    "gold_df = gold_df\\\n",
    "    .withColumnRenamed('Classificacao_da_Ocorrência', 'Classificação da Ocorrência')\\\n",
    "    .withColumnRenamed('Danos_a_Aeronave', 'Danos a Aeronave')\\\n",
    "    .withColumnRenamed('Descricao_do_Tipo', 'Descrição do Tipo')\\\n",
    "    .withColumnRenamed('Fase_da_Operacao', 'Fase da Operação')\\\n",
    "    .withColumnRenamed('Historico', 'Histórico')\\\n",
    "    .withColumnRenamed('UF', 'Estado')"
   ]
  },
  {
   "cell_type": "code",
   "execution_count": 0,
   "metadata": {
    "application/vnd.databricks.v1+cell": {
     "cellMetadata": {
      "byteLimit": 2048000,
      "rowLimit": 10000
     },
     "inputWidgets": {},
     "nuid": "d934e07b-06e3-4593-9d02-6a1fe99933b4",
     "showTitle": false,
     "tableResultSettingsMap": {},
     "title": ""
    }
   },
   "outputs": [],
   "source": [
    "gold_df = gold_df\\\n",
    "    .where(gold_df['Classificação da Ocorrência'] != 'Indeterminado')\\\n",
    "    .where(gold_df['Danos a Aeronave'] != 'Desconhecida')\\\n",
    "    .where(gold_df['Danos a Aeronave'] != 'Sem Registro')\\\n",
    "    .where(gold_df['Descrição do Tipo'] != 'Sem Registro')\\\n",
    "    .where(gold_df['Fase da Operação'] != 'Indeterminada')\\\n",
    "    .where(gold_df['Fase da Operação'] != 'Sem Registro')\\\n",
    "    .where(gold_df['Histórico'] != 'Sem Registro')\\\n",
    "    .where(gold_df.Estado != 'Sem Registro')\\\n",
    "    .where(gold_df.Estado != 'Indeterminado')\\\n",
    "    .where(gold_df.Estado != 'Exterior')"
   ]
  },
  {
   "cell_type": "code",
   "execution_count": 0,
   "metadata": {
    "application/vnd.databricks.v1+cell": {
     "cellMetadata": {
      "byteLimit": 2048000,
      "rowLimit": 10000
     },
     "inputWidgets": {},
     "nuid": "e3cbc2dc-e6ec-4eb2-9abe-a8b6f0ef2939",
     "showTitle": false,
     "tableResultSettingsMap": {},
     "title": ""
    }
   },
   "outputs": [],
   "source": [
    "from pyspark.sql.functions import current_timestamp, date_format, from_utc_timestamp\n",
    "\n",
    "gold_df = gold_df.withColumn(\"Atualizado em\", \n",
    "    date_format(\n",
    "        from_utc_timestamp(\n",
    "            current_timestamp(),\n",
    "            \"America/Sao_Paulo\"\n",
    "        ), \n",
    "        \"yyyy-MM-dd HH:mm:ss\" \n",
    "    )\n",
    ") "
   ]
  },
  {
   "cell_type": "code",
   "execution_count": 0,
   "metadata": {
    "application/vnd.databricks.v1+cell": {
     "cellMetadata": {
      "byteLimit": 2048000,
      "rowLimit": 10000
     },
     "inputWidgets": {},
     "nuid": "64eff80f-253f-4340-8ef4-59ffafa628fa",
     "showTitle": false,
     "tableResultSettingsMap": {},
     "title": ""
    }
   },
   "outputs": [],
   "source": [
    "gold_df.write\\\n",
    "    .mode(\"overwrite\")\\\n",
    "    .format(\"parquet\")\\\n",
    "    .option(\"header\", True)\\\n",
    "    .option(\"inferSchema\", True)\\\n",
    "    .partitionBy(\"Estado\")\\\n",
    "    .save(\"dbfs:/mnt/Anac/Gold/anac_gold_particionado\")"
   ]
  }
 ],
 "metadata": {
  "application/vnd.databricks.v1+notebook": {
   "computePreferences": null,
   "dashboards": [],
   "environmentMetadata": {
    "base_environment": "",
    "environment_version": "2"
   },
   "inputWidgetPreferences": null,
   "language": "python",
   "notebookMetadata": {
    "mostRecentlyExecutedCommandWithImplicitDF": {
     "commandId": 4682129119157887,
     "dataframes": [
      "_sqldf"
     ]
    },
    "pythonIndentUnit": 4
   },
   "notebookName": "Pipeline 2 - Silver to Gold",
   "widgets": {}
  },
  "language_info": {
   "name": "python"
  }
 },
 "nbformat": 4,
 "nbformat_minor": 0
}
