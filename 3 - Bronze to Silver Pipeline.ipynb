{
 "cells": [
  {
   "cell_type": "code",
   "execution_count": 0,
   "metadata": {
    "application/vnd.databricks.v1+cell": {
     "cellMetadata": {
      "byteLimit": 2048000,
      "rowLimit": 10000
     },
     "inputWidgets": {},
     "nuid": "1b2764f4-4aae-4fb4-8ff5-09e5738672f8",
     "showTitle": false,
     "tableResultSettingsMap": {},
     "title": ""
    }
   },
   "outputs": [],
   "source": [
    "%fs\n",
    "ls dbfs:/mnt/Anac"
   ]
  },
  {
   "cell_type": "code",
   "execution_count": 0,
   "metadata": {
    "application/vnd.databricks.v1+cell": {
     "cellMetadata": {
      "byteLimit": 2048000,
      "rowLimit": 10000
     },
     "inputWidgets": {},
     "nuid": "2349e130-0ea2-4d0a-a8f8-c79f9577d342",
     "showTitle": false,
     "tableResultSettingsMap": {},
     "title": ""
    }
   },
   "outputs": [],
   "source": [
    "%fs\n",
    "ls dbfs:/mnt/Anac/Bronze"
   ]
  },
  {
   "cell_type": "markdown",
   "metadata": {
    "application/vnd.databricks.v1+cell": {
     "cellMetadata": {},
     "inputWidgets": {},
     "nuid": "e96ce165-cdf1-4dce-a210-674176efc411",
     "showTitle": false,
     "tableResultSettingsMap": {},
     "title": ""
    }
   },
   "source": [
    "Agora o Databricks consegue acessar ao Azure como se os arquivos tivesem sido importados nele mesmo."
   ]
  },
  {
   "cell_type": "code",
   "execution_count": 0,
   "metadata": {
    "application/vnd.databricks.v1+cell": {
     "cellMetadata": {
      "byteLimit": 2048000,
      "rowLimit": 10000
     },
     "inputWidgets": {},
     "nuid": "c5a7a839-30d9-4195-aad8-0a0efac2b518",
     "showTitle": false,
     "tableResultSettingsMap": {},
     "title": ""
    }
   },
   "outputs": [],
   "source": [
    "df = spark.read.json('dbfs:/mnt/Anac/Bronze/V_OCORRENCIA_AMPLA.json')\n",
    "display(df)"
   ]
  },
  {
   "cell_type": "code",
   "execution_count": 0,
   "metadata": {
    "application/vnd.databricks.v1+cell": {
     "cellMetadata": {
      "byteLimit": 2048000,
      "rowLimit": 10000
     },
     "inputWidgets": {},
     "nuid": "a7122dff-fada-49ad-abb3-987a714dd9b1",
     "showTitle": false,
     "tableResultSettingsMap": {},
     "title": ""
    }
   },
   "outputs": [],
   "source": [
    "lista_colunas = [\n",
    "    \"Aerodromo_de_Destino\", \"Aerodromo_de_Origem\", \"CLS\", \"Categoria_da_Aeronave\", \"Classificacao_da_Ocorrência\", \"Danos_a_Aeronave\", \"Descricao_do_Tipo\", \"Fase_da_Operacao\",\n",
    "    \"Historico\", \"ICAO\", \"Matricula\", \"Modelo\", \"Municipio\", \"Nome_do_Fabricante\",\n",
    "    \"Operacao\", \"Operador\", \"Operador_Padronizado\", \"PMD\", \"Regiao\", \"Tipo_ICAO\", \"Tipo_de_Aerodromo\", \"Tipo_de_Ocorrencia\", \"UF\"\n",
    "]\n",
    "\n",
    "for ajuste in lista_colunas:\n",
    "    df = df.fillna('Sem Registro', subset=[ajuste])"
   ]
  },
  {
   "cell_type": "code",
   "execution_count": 0,
   "metadata": {
    "application/vnd.databricks.v1+cell": {
     "cellMetadata": {
      "byteLimit": 2048000,
      "rowLimit": 10000
     },
     "inputWidgets": {},
     "nuid": "54ef073f-488a-4e4c-a60f-d865e1522cc8",
     "showTitle": false,
     "tableResultSettingsMap": {},
     "title": ""
    }
   },
   "outputs": [],
   "source": [
    "lista_colunas_int = [\n",
    "    'Ilesos_Passageiros', 'Ilesos_Tripulantes', 'Lesoes_Desconhecidas_Tripulantes', 'Lesoes_Desconhecidas_Terceiros', 'Lesoes_Desconhecidas_Passageiros', 'Lesoes_Fatais_Passageiros',\n",
    "    'Lesoes_Fatais_Terceiros', 'Lesoes_Fatais_Tripulantes', 'Lesoes_Graves_Passageiros', 'Lesoes_Graves_Terceiros', 'Lesoes_Graves_Tripulantes', 'Lesoes_Leves_Passageiros', 'Lesoes_Leves_Terceiros', 'Lesoes_Leves_Tripulantes', 'Numero_de_Assentos', 'Numero_da_Ocorrencia',\n",
    "    'Numero_da_Ficha'\n",
    "]\n",
    "# display(\n",
    "#     df\\\n",
    "#         .withColumn('Lesoes_Fatais_Terceiros', df['Lesoes_Fatais_Terceiros'].cast('int'))\\\n",
    "#         .fillna(0, subset='Lesoes_Fatais_Terceiros')\n",
    "#         .select('Lesoes_Fatais_Terceiros')\n",
    "# )\n",
    "for coluna in lista_colunas_int:\n",
    "    df = df\\\n",
    "        .withColumn(coluna, df[coluna].cast('int'))\\\n",
    "        .fillna(0, subset=coluna)\n"
   ]
  },
  {
   "cell_type": "code",
   "execution_count": 0,
   "metadata": {
    "application/vnd.databricks.v1+cell": {
     "cellMetadata": {
      "byteLimit": 2048000,
      "rowLimit": 10000
     },
     "inputWidgets": {},
     "nuid": "dcb582c2-6b53-4a6a-93b4-f1ec286042de",
     "showTitle": false,
     "tableResultSettingsMap": {},
     "title": ""
    }
   },
   "outputs": [],
   "source": [
    "\n",
    "\n",
    "df = df.withColumn('Data_da_Ocorrencia', df['Data_da_Ocorrencia'].cast('date'))\n",
    "display(df.select('Data_da_Ocorrencia'))"
   ]
  },
  {
   "cell_type": "code",
   "execution_count": 0,
   "metadata": {
    "application/vnd.databricks.v1+cell": {
     "cellMetadata": {
      "byteLimit": 2048000,
      "rowLimit": 10000
     },
     "inputWidgets": {},
     "nuid": "aace6f56-04b9-4695-87da-3e9a3198761c",
     "showTitle": false,
     "tableResultSettingsMap": {},
     "title": ""
    }
   },
   "outputs": [],
   "source": [
    "from pyspark.sql.functions import regexp_replace, col\n",
    "\n",
    "df = df\\\n",
    "    .withColumn(\n",
    "        'Latitude', \n",
    "        regexp_replace('Latitude', ',', '.').cast('decimal(8,6)')\n",
    "    )\n",
    "\n",
    "\n",
    "df = df\\\n",
    "    .withColumn(\n",
    "        'Longitude', \n",
    "        regexp_replace('Longitude', ',', '.').cast('decimal(9,6)')\n",
    "    )\n",
    "\n",
    "display(df.select('Latitude', 'Longitude'))\n"
   ]
  },
  {
   "cell_type": "code",
   "execution_count": 0,
   "metadata": {
    "application/vnd.databricks.v1+cell": {
     "cellMetadata": {},
     "inputWidgets": {},
     "nuid": "8aa06f28-e92e-484c-a151-0a18bf14d442",
     "showTitle": false,
     "tableResultSettingsMap": {},
     "title": ""
    }
   },
   "outputs": [],
   "source": [
    "Não sei oque fazer com a coluna \"Hora_da_Ocorrência\""
   ]
  },
  {
   "cell_type": "code",
   "execution_count": 0,
   "metadata": {
    "application/vnd.databricks.v1+cell": {
     "cellMetadata": {
      "byteLimit": 2048000,
      "rowLimit": 10000
     },
     "inputWidgets": {},
     "nuid": "64433040-80f1-4969-9c30-d9c13bb2b0e2",
     "showTitle": false,
     "tableResultSettingsMap": {},
     "title": ""
    }
   },
   "outputs": [],
   "source": [
    "from pyspark.sql.functions import when\n",
    "\n",
    "df = df\\\n",
    "    .withColumn(\"PSSO\", \\\n",
    "        when(df.PSSO == 'verdadeiro', True).when(df.PSSO == 'falso', False)\n",
    "    )"
   ]
  },
  {
   "cell_type": "code",
   "execution_count": 0,
   "metadata": {
    "application/vnd.databricks.v1+cell": {
     "cellMetadata": {
      "byteLimit": 2048000,
      "rowLimit": 10000
     },
     "inputWidgets": {},
     "nuid": "078d2a52-8ebd-4ec1-abb6-116f98faa2ab",
     "showTitle": false,
     "tableResultSettingsMap": {},
     "title": ""
    }
   },
   "outputs": [],
   "source": [
    "df.write\\\n",
    "    .format(\"parquet\")\\\n",
    "    .mode(\"overwrite\")\\\n",
    "    .option(\"compression\", \"gzip\")\\\n",
    "    .option(\"header\", \"true\")\\\n",
    "    .save(\"dbfs:/mnt/Anac/Silver/anac_silver.parquet\")"
   ]
  },
  {
   "cell_type": "code",
   "execution_count": 0,
   "metadata": {
    "application/vnd.databricks.v1+cell": {
     "cellMetadata": {
      "byteLimit": 2048000,
      "rowLimit": 10000
     },
     "inputWidgets": {},
     "nuid": "d166a676-3876-4838-8a9c-d532baaa32c3",
     "showTitle": false,
     "tableResultSettingsMap": {},
     "title": ""
    }
   },
   "outputs": [],
   "source": [
    "%fs ls dbfs:/mnt/Anac/Silver"
   ]
  },
  {
   "cell_type": "code",
   "execution_count": 0,
   "metadata": {
    "application/vnd.databricks.v1+cell": {
     "cellMetadata": {
      "byteLimit": 2048000,
      "rowLimit": 10000
     },
     "inputWidgets": {},
     "nuid": "46ea9280-1439-44d3-b3f6-db7fcb97bc8e",
     "showTitle": false,
     "tableResultSettingsMap": {},
     "title": ""
    }
   },
   "outputs": [],
   "source": [
    "display(spark.read\\\n",
    "    .format(\"parquet\")\\\n",
    "    .option(\"header\", True)\\\n",
    "    .option(\"inferSchema\", True)\\\n",
    "    .option(\"compression\", \"gzip\")\n",
    "    .load(\"dbfs:/mnt/Anac/Silver/anac_silver.parquet\"))"
   ]
  },
  {
   "cell_type": "code",
   "execution_count": 0,
   "metadata": {
    "application/vnd.databricks.v1+cell": {
     "cellMetadata": {
      "byteLimit": 2048000,
      "rowLimit": 10000
     },
     "inputWidgets": {},
     "nuid": "0b808135-0dad-4758-8259-6c459c09fcfb",
     "showTitle": false,
     "tableResultSettingsMap": {},
     "title": ""
    }
   },
   "outputs": [],
   "source": [
    "print(\"A\")"
   ]
  }
 ],
 "metadata": {
  "application/vnd.databricks.v1+notebook": {
   "computePreferences": null,
   "dashboards": [],
   "environmentMetadata": {
    "base_environment": "",
    "environment_version": "2"
   },
   "inputWidgetPreferences": null,
   "language": "python",
   "notebookMetadata": {
    "mostRecentlyExecutedCommandWithImplicitDF": {
     "commandId": 4682129119157882,
     "dataframes": [
      "_sqldf"
     ]
    },
    "pythonIndentUnit": 4
   },
   "notebookName": "3 - Bronze to Silver Pipeline",
   "widgets": {}
  },
  "language_info": {
   "name": "python"
  }
 },
 "nbformat": 4,
 "nbformat_minor": 0
}
